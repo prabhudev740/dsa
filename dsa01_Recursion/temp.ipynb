{
 "cells": [
  {
   "cell_type": "code",
   "execution_count": 39,
   "metadata": {},
   "outputs": [
    {
     "name": "stdout",
     "output_type": "stream",
     "text": [
      "1\n",
      "2\n",
      "3\n",
      "4\n",
      "5\n"
     ]
    }
   ],
   "source": [
    "# print from 1 to 5\n",
    "\n",
    "n = 1\n",
    "while n <= 5:\n",
    "    print(n)\n",
    "    n += 1"
   ]
  },
  {
   "cell_type": "code",
   "execution_count": 40,
   "metadata": {},
   "outputs": [
    {
     "name": "stdout",
     "output_type": "stream",
     "text": [
      "1\n",
      "2\n",
      "3\n",
      "4\n",
      "5\n"
     ]
    }
   ],
   "source": [
    "def display(n):\n",
    "    if n > 5:\n",
    "        return\n",
    "    print(n)\n",
    "\n",
    "    display(n + 1)\n",
    "\n",
    "display(1)"
   ]
  },
  {
   "cell_type": "code",
   "execution_count": 41,
   "metadata": {},
   "outputs": [
    {
     "name": "stdout",
     "output_type": "stream",
     "text": [
      "10\n"
     ]
    }
   ],
   "source": [
    "def abc():\n",
    "    print(10)\n",
    "\n",
    "x = abc()"
   ]
  },
  {
   "cell_type": "code",
   "execution_count": 42,
   "metadata": {},
   "outputs": [
    {
     "name": "stdout",
     "output_type": "stream",
     "text": [
      "<class 'builtin_function_or_method'>\n"
     ]
    }
   ],
   "source": [
    "print(type(len))"
   ]
  },
  {
   "cell_type": "code",
   "execution_count": 43,
   "metadata": {},
   "outputs": [
    {
     "name": "stdout",
     "output_type": "stream",
     "text": [
      "None\n"
     ]
    }
   ],
   "source": [
    "print(x)"
   ]
  },
  {
   "cell_type": "code",
   "execution_count": null,
   "metadata": {},
   "outputs": [],
   "source": []
  },
  {
   "cell_type": "markdown",
   "metadata": {},
   "source": [
    "python dt divided into 2 type\n",
    "\n",
    "single valued\n",
    "collectio\n",
    "\n",
    "\n",
    "--> SVDT\n",
    "-----------\n",
    "=> numeric\n",
    "=> boolean\n",
    "\n",
    "numeric\n",
    "---------\n",
    "int             x = 6           --> 0\n",
    "float           x = 6.7546      --> 0.0\n",
    "complex         x = 5 + 5j      --> 0j\n",
    "\n",
    "boolean  --> bool               --> False\n",
    "---------\n",
    "True            x = True\n",
    "False           x = False\n",
    "\n",
    "memory management in python\n",
    "--------------------------\n",
    "memory is divided into 2 parts\n",
    "-----\n",
    "heap memory  --> it will conatain the values as object\n",
    "stack memory ---> it conatin the adress of that object refence to variballe\n",
    "\n",
    "when we declare a svdt, out controller will create a object in heap memory\n",
    "\n",
    "it will give some adress to it\n",
    "\n",
    "it will asssign that adress to varible in stack memry\n",
    "\n",
    "Whwnever we declare one svdt \n",
    "    python controller will \n",
    "\n",
    "--> collection\n",
    "----------------\n",
    "string   --> str        --> \"\"\n",
    "list     --> list       --> []\n",
    "tuple     --> tuple     --> ()\n",
    "set      --> set        --> set()\n",
    "dict     --> dict       --> {}\n",
    "\n",
    "\n",
    "String --> \n",
    "-------------\n",
    "collection dt\n",
    "immutable dt, we cant change it after assigning\n",
    "it is an ordered dt, it has indexing\n",
    "it hemogeneius dt, it is collection string/ char\n",
    "\n",
    "\n",
    "memory mangement\n",
    "------------------\n",
    "controller will create a memory layer\n",
    "now it will check the len and create that much block in that memory layer\n",
    "it will store all values respectively\n",
    "\n",
    "it do the indexin\n",
    "-------------------\n",
    "+ve indexing\n",
    "\n",
    "    start --> 0\n",
    "    end --> len(collection) -1\n",
    "\n",
    "-ve indexing\n"
   ]
  },
  {
   "cell_type": "code",
   "execution_count": 44,
   "metadata": {},
   "outputs": [
    {
     "data": {
      "text/plain": [
       "2301887381904"
      ]
     },
     "execution_count": 44,
     "metadata": {},
     "output_type": "execute_result"
    }
   ],
   "source": [
    "x = 6\n",
    "id(x)"
   ]
  },
  {
   "cell_type": "code",
   "execution_count": 45,
   "metadata": {},
   "outputs": [],
   "source": [
    "p  = 749484498890389383"
   ]
  },
  {
   "cell_type": "code",
   "execution_count": 46,
   "metadata": {},
   "outputs": [],
   "source": [
    "q = 7"
   ]
  },
  {
   "cell_type": "code",
   "execution_count": 47,
   "metadata": {},
   "outputs": [
    {
     "data": {
      "text/plain": [
       "2"
      ]
     },
     "execution_count": 47,
     "metadata": {},
     "output_type": "execute_result"
    }
   ],
   "source": [
    "import sys\n",
    "sys.getrefcount(p)"
   ]
  },
  {
   "cell_type": "code",
   "execution_count": 48,
   "metadata": {},
   "outputs": [
    {
     "name": "stdout",
     "output_type": "stream",
     "text": [
      "<class 'str'>\n",
      "<class 'str'>\n",
      "<class 'str'>\n",
      "<class 'str'>\n"
     ]
    }
   ],
   "source": [
    "a = 'True'\n",
    "\n",
    "for i in a:\n",
    "    print(type(i))"
   ]
  },
  {
   "cell_type": "code",
   "execution_count": 49,
   "metadata": {},
   "outputs": [],
   "source": [
    "a = [1, 2, 3, 4, 5]\n",
    "\n"
   ]
  }
 ],
 "metadata": {
  "kernelspec": {
   "display_name": "Python 3.10.6 64-bit",
   "language": "python",
   "name": "python3"
  },
  "language_info": {
   "codemirror_mode": {
    "name": "ipython",
    "version": 3
   },
   "file_extension": ".py",
   "mimetype": "text/x-python",
   "name": "python",
   "nbconvert_exporter": "python",
   "pygments_lexer": "ipython3",
   "version": "3.10.6"
  },
  "orig_nbformat": 4,
  "vscode": {
   "interpreter": {
    "hash": "cb746cae21d8eece361e3d69b5b88e7465dccc6b14f8d94d4bf000eb937e2588"
   }
  }
 },
 "nbformat": 4,
 "nbformat_minor": 2
}
