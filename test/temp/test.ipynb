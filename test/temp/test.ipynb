{
 "cells": [
  {
   "cell_type": "markdown",
   "metadata": {},
   "source": [
    "Armstrong"
   ]
  },
  {
   "cell_type": "code",
   "execution_count": 2,
   "metadata": {},
   "outputs": [],
   "source": [
    "def is_armstrong(n):\n",
    "    temp = n\n",
    "    res = 0\n",
    "    while temp:\n",
    "        res += (temp % 10) ** 3\n",
    "        temp = temp //10\n",
    "\n",
    "    if res == n:\n",
    "        return True\n",
    "    return False"
   ]
  },
  {
   "cell_type": "code",
   "execution_count": 3,
   "metadata": {},
   "outputs": [
    {
     "data": {
      "text/plain": [
       "True"
      ]
     },
     "execution_count": 3,
     "metadata": {},
     "output_type": "execute_result"
    }
   ],
   "source": [
    "is_armstrong(int(input()))"
   ]
  },
  {
   "cell_type": "markdown",
   "metadata": {},
   "source": [
    "Pallindrom"
   ]
  },
  {
   "cell_type": "code",
   "execution_count": 4,
   "metadata": {},
   "outputs": [],
   "source": [
    "def is_pallindrom(n: int) -> bool:\n",
    "    res = 0\n",
    "    temp = n\n",
    "\n",
    "    while temp:\n",
    "        res = res * 10 + temp % 10\n",
    "        temp //= 10\n",
    "    \n",
    "    if n == res:\n",
    "        return True\n",
    "    return False"
   ]
  },
  {
   "cell_type": "code",
   "execution_count": 9,
   "metadata": {},
   "outputs": [
    {
     "data": {
      "text/plain": [
       "False"
      ]
     },
     "execution_count": 9,
     "metadata": {},
     "output_type": "execute_result"
    }
   ],
   "source": [
    "is_pallindrom(int(input()))"
   ]
  },
  {
   "cell_type": "markdown",
   "metadata": {},
   "source": [
    "Prime Number"
   ]
  },
  {
   "cell_type": "code",
   "execution_count": 41,
   "metadata": {},
   "outputs": [],
   "source": [
    "def is_prime(n: int) -> bool:\n",
    "    if n < 2:\n",
    "        return False\n",
    "    for i in range(2, n//2):\n",
    "        if not n % i:\n",
    "            return False\n",
    "\n",
    "    return True"
   ]
  },
  {
   "cell_type": "code",
   "execution_count": 51,
   "metadata": {},
   "outputs": [
    {
     "data": {
      "text/plain": [
       "False"
      ]
     },
     "execution_count": 51,
     "metadata": {},
     "output_type": "execute_result"
    }
   ],
   "source": [
    "is_prime(141)"
   ]
  },
  {
   "cell_type": "markdown",
   "metadata": {},
   "source": [
    "n th Fibonacii "
   ]
  },
  {
   "cell_type": "code",
   "execution_count": 1,
   "metadata": {},
   "outputs": [],
   "source": [
    "def fib(n):\n",
    "    if n < 2:\n",
    "        return n\n",
    "\n",
    "    return fib(n-1) + fib(n-2)"
   ]
  },
  {
   "cell_type": "code",
   "execution_count": 3,
   "metadata": {},
   "outputs": [
    {
     "data": {
      "text/plain": [
       "5"
      ]
     },
     "execution_count": 3,
     "metadata": {},
     "output_type": "execute_result"
    }
   ],
   "source": [
    "fib(5)"
   ]
  },
  {
   "cell_type": "markdown",
   "metadata": {},
   "source": [
    "is_fib"
   ]
  },
  {
   "cell_type": "code",
   "execution_count": 14,
   "metadata": {},
   "outputs": [],
   "source": [
    "def is_fib(n):\n",
    "    if n in (0, 1):\n",
    "        return True\n",
    "    temp = [0, 1]\n",
    "    for i in range(n):\n",
    "        fib = temp[-2] + temp[-1]\n",
    "        if fib > n:\n",
    "            break\n",
    "        if fib == n:\n",
    "            return True\n",
    "        \n",
    "        temp.append(fib)\n",
    "    return False"
   ]
  },
  {
   "cell_type": "code",
   "execution_count": 28,
   "metadata": {},
   "outputs": [
    {
     "data": {
      "text/plain": [
       "True"
      ]
     },
     "execution_count": 28,
     "metadata": {},
     "output_type": "execute_result"
    }
   ],
   "source": [
    "is_fib(0)"
   ]
  },
  {
   "cell_type": "code",
   "execution_count": 7,
   "metadata": {},
   "outputs": [
    {
     "name": "stdout",
     "output_type": "stream",
     "text": [
      "4 [1, 2, 3, 4]\n"
     ]
    }
   ],
   "source": [
    "res = []\n",
    "for i in range(int(input())):\n",
    "    res.append(int(input()))\n",
    "\n",
    "print(max(res))"
   ]
  },
  {
   "cell_type": "code",
   "execution_count": 12,
   "metadata": {},
   "outputs": [
    {
     "name": "stdout",
     "output_type": "stream",
     "text": [
      "[2, 4, 6, 4]\n"
     ]
    }
   ],
   "source": [
    "x = list(map(int, input().split(',')))\n",
    "y = list(map(int, input().split(',')))\n",
    "\n",
    "i = j = 0\n",
    "\n",
    "res = []\n",
    "\n",
    "while i < len(x) and j < len(y):\n",
    "    res.append(x[i] + y[j])\n",
    "    i += 1\n",
    "    j += 1\n",
    "\n",
    "if i < len(x):\n",
    "    res.extend(x[i:])\n",
    "if j < len(y):\n",
    "    res.extend(y[j:])\n",
    "\n",
    "print(res)"
   ]
  },
  {
   "cell_type": "code",
   "execution_count": 1,
   "metadata": {},
   "outputs": [
    {
     "name": "stdout",
     "output_type": "stream",
     "text": [
      "      s\n",
      "     se\n",
      "    sen\n",
      "   send\n",
      "  sendi\n",
      " sendin\n",
      "sending\n",
      "ending\n",
      "nding\n",
      "ding\n",
      "ing\n",
      "ng\n",
      "g\n"
     ]
    }
   ],
   "source": [
    "s = input()\n",
    "\n",
    "n = len(s)-1\n",
    "\n",
    "for i in range(n+1):\n",
    "    print(' ' * (n-i),s[:i+1], sep='')\n",
    "\n",
    "for i in range(n):\n",
    "    print(s[i+1:])"
   ]
  },
  {
   "cell_type": "code",
   "execution_count": null,
   "metadata": {},
   "outputs": [],
   "source": []
  }
 ],
 "metadata": {
  "kernelspec": {
   "display_name": "Python 3.10.4 64-bit",
   "language": "python",
   "name": "python3"
  },
  "language_info": {
   "codemirror_mode": {
    "name": "ipython",
    "version": 3
   },
   "file_extension": ".py",
   "mimetype": "text/x-python",
   "name": "python",
   "nbconvert_exporter": "python",
   "pygments_lexer": "ipython3",
   "version": "3.10.4"
  },
  "orig_nbformat": 4,
  "vscode": {
   "interpreter": {
    "hash": "916dbcbb3f70747c44a77c7bcd40155683ae19c65e1c03b4aa3499c5328201f1"
   }
  }
 },
 "nbformat": 4,
 "nbformat_minor": 2
}
